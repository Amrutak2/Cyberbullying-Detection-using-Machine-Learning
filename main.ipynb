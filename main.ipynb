{
 "cells": [
  {
   "cell_type": "markdown",
   "metadata": {},
   "source": [
    "### Import libraries"
   ]
  },
  {
   "cell_type": "code",
   "execution_count": 1,
   "metadata": {},
   "outputs": [],
   "source": [
    "import re\n",
    "import numpy as np\n",
    "import pandas as pd\n",
    "from sklearn import svm\n",
    "from sklearn.svm import SVC\n",
    "from sklearn.ensemble import RandomForestClassifier\n",
    "from sklearn.model_selection import GridSearchCV\n",
    "from sklearn.ensemble import GradientBoostingClassifier\n",
    "from sklearn import tree\n",
    "from sklearn import preprocessing\n",
    "from nltk.corpus import stopwords \n",
    "from nltk.tokenize import word_tokenize\n",
    "from nltk.stem import WordNetLemmatizer\n",
    "from sklearn.naive_bayes import GaussianNB\n",
    "from sklearn.linear_model import LogisticRegression\n",
    "from sklearn.model_selection import train_test_split\n",
    "from sklearn.feature_extraction.text import CountVectorizer\n",
    "from sklearn.metrics import accuracy_score, recall_score, precision_score\n",
    "from sklearn.model_selection import train_test_split\n",
    "from matplotlib import pyplot as plt"
   ]
  },
  {
   "cell_type": "code",
   "execution_count": 2,
   "metadata": {},
   "outputs": [],
   "source": [
    "%matplotlib inline"
   ]
  },
  {
   "cell_type": "markdown",
   "metadata": {},
   "source": [
    "### Load dataset"
   ]
  },
  {
   "cell_type": "code",
   "execution_count": 3,
   "metadata": {},
   "outputs": [
    {
     "data": {
      "text/html": [
       "<div>\n",
       "<style scoped>\n",
       "    .dataframe tbody tr th:only-of-type {\n",
       "        vertical-align: middle;\n",
       "    }\n",
       "\n",
       "    .dataframe tbody tr th {\n",
       "        vertical-align: top;\n",
       "    }\n",
       "\n",
       "    .dataframe thead th {\n",
       "        text-align: right;\n",
       "    }\n",
       "</style>\n",
       "<table border=\"1\" class=\"dataframe\">\n",
       "  <thead>\n",
       "    <tr style=\"text-align: right;\">\n",
       "      <th></th>\n",
       "      <th>Tweet</th>\n",
       "      <th>Text Label</th>\n",
       "    </tr>\n",
       "  </thead>\n",
       "  <tbody>\n",
       "    <tr>\n",
       "      <th>388</th>\n",
       "      <td>If there's one good thing about what OG are do...</td>\n",
       "      <td>Non-Bullying</td>\n",
       "    </tr>\n",
       "    <tr>\n",
       "      <th>972</th>\n",
       "      <td>Fucking cunt meet me in Asda.</td>\n",
       "      <td>Bullying</td>\n",
       "    </tr>\n",
       "    <tr>\n",
       "      <th>273</th>\n",
       "      <td>It is widely acknowledged that Erdogan is a go...</td>\n",
       "      <td>Non-Bullying</td>\n",
       "    </tr>\n",
       "    <tr>\n",
       "      <th>872</th>\n",
       "      <td>I think all cishet men should have to take a c...</td>\n",
       "      <td>Bullying</td>\n",
       "    </tr>\n",
       "    <tr>\n",
       "      <th>763</th>\n",
       "      <td>Could you do your videos with less feminism an...</td>\n",
       "      <td>Bullying</td>\n",
       "    </tr>\n",
       "  </tbody>\n",
       "</table>\n",
       "</div>"
      ],
      "text/plain": [
       "                                                 Tweet    Text Label\n",
       "388  If there's one good thing about what OG are do...  Non-Bullying\n",
       "972                      Fucking cunt meet me in Asda.      Bullying\n",
       "273  It is widely acknowledged that Erdogan is a go...  Non-Bullying\n",
       "872  I think all cishet men should have to take a c...      Bullying\n",
       "763  Could you do your videos with less feminism an...      Bullying"
      ]
     },
     "execution_count": 3,
     "metadata": {},
     "output_type": "execute_result"
    }
   ],
   "source": [
    "# Load dataset\n",
    "df = pd.read_csv(\"tweets.csv\")\n",
    "\n",
    "# Shuffle data to get randomized sequence of observations.\n",
    "df = df.sample(frac=1, random_state=1500)\n",
    "\n",
    "# Print first 5 rows of the data.\n",
    "df.head()"
   ]
  },
  {
   "cell_type": "markdown",
   "metadata": {},
   "source": [
    "### Data analysis"
   ]
  },
  {
   "cell_type": "code",
   "execution_count": 4,
   "metadata": {},
   "outputs": [
    {
     "name": "stdout",
     "output_type": "stream",
     "text": [
      "Dataset shape is  (1065, 2)\n"
     ]
    }
   ],
   "source": [
    "# Print shape of dataset.\n",
    "print('Dataset shape is ', df.shape)"
   ]
  },
  {
   "cell_type": "code",
   "execution_count": 5,
   "metadata": {},
   "outputs": [
    {
     "data": {
      "text/plain": [
       "<AxesSubplot:title={'center':'Ratio of observations'}>"
      ]
     },
     "execution_count": 5,
     "metadata": {},
     "output_type": "execute_result"
    },
    {
     "data": {
      "image/png": "[encoded data removed]",
      "text/plain": [
       "<Figure size 432x288 with 1 Axes>"
      ]
     },
     "metadata": {
      "needs_background": "light"
     },
     "output_type": "display_data"
    }
   ],
   "source": [
    "df['Text Label'].value_counts(normalize=True).plot(kind='bar', title='Ratio of observations')"
   ]
  },
  {
   "cell_type": "markdown",
   "metadata": {},
   "source": [
    "### Data preprocessing"
   ]
  },
  {
   "cell_type": "code",
   "execution_count": 6,
   "metadata": {},
   "outputs": [
    {
     "data": {
      "text/html": [
       "<div>\n",
       "<style scoped>\n",
       "    .dataframe tbody tr th:only-of-type {\n",
       "        vertical-align: middle;\n",
       "    }\n",
       "\n",
       "    .dataframe tbody tr th {\n",
       "        vertical-align: top;\n",
       "    }\n",
       "\n",
       "    .dataframe thead th {\n",
       "        text-align: right;\n",
       "    }\n",
       "</style>\n",
       "<table border=\"1\" class=\"dataframe\">\n",
       "  <thead>\n",
       "    <tr style=\"text-align: right;\">\n",
       "      <th></th>\n",
       "      <th>Tweet</th>\n",
       "      <th>Text Label</th>\n",
       "      <th>Processed_Tweet</th>\n",
       "    </tr>\n",
       "  </thead>\n",
       "  <tbody>\n",
       "    <tr>\n",
       "      <th>388</th>\n",
       "      <td>If there's one good thing about what OG are do...</td>\n",
       "      <td>Non-Bullying</td>\n",
       "      <td>there one good thing og theyre bringing eu mas...</td>\n",
       "    </tr>\n",
       "    <tr>\n",
       "      <th>972</th>\n",
       "      <td>Fucking cunt meet me in Asda.</td>\n",
       "      <td>Bullying</td>\n",
       "      <td>fucking cunt meet asda</td>\n",
       "    </tr>\n",
       "    <tr>\n",
       "      <th>273</th>\n",
       "      <td>It is widely acknowledged that Erdogan is a go...</td>\n",
       "      <td>Non-Bullying</td>\n",
       "      <td>widely acknowledged erdogan goatfucker</td>\n",
       "    </tr>\n",
       "    <tr>\n",
       "      <th>872</th>\n",
       "      <td>I think all cishet men should have to take a c...</td>\n",
       "      <td>Bullying</td>\n",
       "      <td>think cishet men take class called shut fuck s...</td>\n",
       "    </tr>\n",
       "    <tr>\n",
       "      <th>763</th>\n",
       "      <td>Could you do your videos with less feminism an...</td>\n",
       "      <td>Bullying</td>\n",
       "      <td>could video le feminism postmodernism</td>\n",
       "    </tr>\n",
       "  </tbody>\n",
       "</table>\n",
       "</div>"
      ],
      "text/plain": [
       "                                                 Tweet    Text Label  \\\n",
       "388  If there's one good thing about what OG are do...  Non-Bullying   \n",
       "972                      Fucking cunt meet me in Asda.      Bullying   \n",
       "273  It is widely acknowledged that Erdogan is a go...  Non-Bullying   \n",
       "872  I think all cishet men should have to take a c...      Bullying   \n",
       "763  Could you do your videos with less feminism an...      Bullying   \n",
       "\n",
       "                                       Processed_Tweet  \n",
       "388  there one good thing og theyre bringing eu mas...  \n",
       "972                             fucking cunt meet asda  \n",
       "273             widely acknowledged erdogan goatfucker  \n",
       "872  think cishet men take class called shut fuck s...  \n",
       "763              could video le feminism postmodernism  "
      ]
     },
     "execution_count": 6,
     "metadata": {},
     "output_type": "execute_result"
    }
   ],
   "source": [
    "def preprocess_tweet(tweet):\n",
    "    # Remove words other than alphabets.\n",
    "    row = re.sub(\"[^A-Za-z ]\", \"\", tweet).lower()\n",
    "    \n",
    "    # Tokenize words.\n",
    "    words = word_tokenize(row)\n",
    "\n",
    "    # Remove stop words.\n",
    "    english_stops = set(stopwords.words('english'))\n",
    "\n",
    "    # Remove un-necessary words.\n",
    "    characters_to_remove = [\"''\",'``',\"rt\",\"https\",\"’\",\"“\",\"”\",\"\\u200b\",\"--\",\"n't\",\"'s\",\"...\",\"//t.c\" ]\n",
    "    clean_words = [word for word in words if word not in english_stops and word not in characters_to_remove]\n",
    "\n",
    "    # Lematise words.\n",
    "    wordnet_lemmatizer = WordNetLemmatizer()\n",
    "    lemma_list = [wordnet_lemmatizer.lemmatize(word) for word in clean_words]\n",
    "\n",
    "    return \" \".join(lemma_list)\n",
    "\n",
    "df['Processed_Tweet'] = df['Tweet'].map(preprocess_tweet)\n",
    "\n",
    "df.head()"
   ]
  },
  {
   "cell_type": "markdown",
   "metadata": {},
   "source": [
    "### Feature extraction"
   ]
  },
  {
   "cell_type": "code",
   "execution_count": 7,
   "metadata": {},
   "outputs": [],
   "source": [
    "# Bag of words.\n",
    "cv = CountVectorizer(max_features=1500)\n",
    "X = cv.fit_transform(df['Processed_Tweet']).toarray()\n",
    "\n",
    "# Label encode.\n",
    "le = preprocessing.LabelEncoder()\n",
    "y = le.fit_transform(df['Text Label'])"
   ]
  },
  {
   "cell_type": "markdown",
   "metadata": {},
   "source": [
    "### Data splitting"
   ]
  },
  {
   "cell_type": "code",
   "execution_count": 8,
   "metadata": {},
   "outputs": [
    {
     "name": "stdout",
     "output_type": "stream",
     "text": [
      "First 5 lables in trainig set are: [0 0 1 1 1]\n",
      "First 5 lables in test set are: [1 1 0 1 1]\n"
     ]
    }
   ],
   "source": [
    "# Split dataset.\n",
    "X_train, X_test, y_train, y_test = train_test_split(X, y, test_size=0.25, random_state=42)\n",
    "\n",
    "print('First 5 lables in trainig set are:', y_train[0:5])\n",
    "print('First 5 lables in test set are:', y_test[0:5])"
   ]
  },
  {
   "cell_type": "code",
   "execution_count": 9,
   "metadata": {},
   "outputs": [
    {
     "name": "stdout",
     "output_type": "stream",
     "text": [
      "No. of rows of training set is  798\n",
      "No. of rows of testing set is  267\n"
     ]
    }
   ],
   "source": [
    "print('No. of rows of training set is ', X_train.shape[0])\n",
    "print('No. of rows of testing set is ', X_test.shape[0])"
   ]
  },
  {
   "cell_type": "markdown",
   "metadata": {},
   "source": [
    "### Model"
   ]
  },
  {
   "cell_type": "code",
   "execution_count": 10,
   "metadata": {},
   "outputs": [
    {
     "name": "stdout",
     "output_type": "stream",
     "text": [
      "Logistic regression train set result:\n",
      "Accuracy 93.0\n",
      "Re-call 0.96\n",
      "Precision 0.92\n",
      "\n",
      "Logistic regression test set result:\n",
      "Accuracy 81.0\n",
      "Re-call 0.88\n",
      "Precision 0.81\n"
     ]
    }
   ],
   "source": [
    "# Logistic Regression.\n",
    "linear_regression_classifer = LogisticRegression(random_state=0)\n",
    "\n",
    "# Train classifier.\n",
    "linear_regression_classifer.fit(X_train, y_train)\n",
    "\n",
    "# Predict on train set.\n",
    "y_train_pred = linear_regression_classifer.predict(X_train)\n",
    "\n",
    "# Predict on test set.\n",
    "y_test_pred = linear_regression_classifer.predict(X_test)\n",
    "\n",
    "# Accuracy and other metrics.\n",
    "train_accuracy = accuracy_score(y_train, y_train_pred)\n",
    "train_recall = recall_score(y_train, y_train_pred, average='binary')\n",
    "train_precision = precision_score(y_train, y_train_pred, average='binary')\n",
    "\n",
    "test_accuracy = accuracy_score(y_test, y_test_pred)\n",
    "test_recall = recall_score(y_test, y_test_pred, average='binary')\n",
    "test_precision = precision_score(y_test, y_test_pred, average='binary')\n",
    "\n",
    "print('Logistic regression train set result:')\n",
    "print('Accuracy', round(train_accuracy, 2) * 100)\n",
    "print('Re-call', round(train_recall, 2))\n",
    "print('Precision', round(train_precision, 2))\n",
    "print()\n",
    "print('Logistic regression test set result:')\n",
    "print('Accuracy', round(test_accuracy, 2) * 100)\n",
    "print('Re-call', round(test_recall, 2))\n",
    "print('Precision', round(test_precision, 2))"
   ]
  },
  {
   "cell_type": "code",
   "execution_count": 11,
   "metadata": {},
   "outputs": [
    {
     "name": "stdout",
     "output_type": "stream",
     "text": [
      "SVM train set result:\n",
      "Accuracy 92.0\n",
      "Re-call 0.97\n",
      "Precision 0.91\n",
      "\n",
      "SVM test set result:\n",
      "Accuracy 76.0\n",
      "Re-call 0.9\n",
      "Precision 0.74\n"
     ]
    }
   ],
   "source": [
    "# SVM Regression.\n",
    "svm_ovo_classifer = svm.SVC(decision_function_shape='ovo')\n",
    "\n",
    "# Train classifier.\n",
    "svm_ovo_classifer.fit(X_train, y_train)\n",
    "\n",
    "# Predict on train set.\n",
    "y_train_pred = svm_ovo_classifer.predict(X_train)\n",
    "\n",
    "# Predict on test set.\n",
    "y_test_pred = svm_ovo_classifer.predict(X_test)\n",
    "\n",
    "# Accuracy and other metrics.\n",
    "train_accuracy = accuracy_score(y_train, y_train_pred)\n",
    "train_recall = recall_score(y_train, y_train_pred, average='binary')\n",
    "train_precision = precision_score(y_train, y_train_pred, average='binary')\n",
    "\n",
    "test_accuracy = accuracy_score(y_test, y_test_pred)\n",
    "test_recall = recall_score(y_test, y_test_pred, average='binary')\n",
    "test_precision = precision_score(y_test, y_test_pred, average='binary')\n",
    "\n",
    "print('SVM train set result:')\n",
    "print('Accuracy', round(train_accuracy, 2) * 100)\n",
    "print('Re-call', round(train_recall, 2))\n",
    "print('Precision', round(train_precision, 2))\n",
    "print()\n",
    "print('SVM test set result:')\n",
    "print('Accuracy', round(test_accuracy, 2) * 100)\n",
    "print('Re-call', round(test_recall, 2))\n",
    "print('Precision', round(test_precision, 2))"
   ]
  },
  {
   "cell_type": "code",
   "execution_count": 12,
   "metadata": {},
   "outputs": [
    {
     "name": "stdout",
     "output_type": "stream",
     "text": [
      "Naive bayes train set result:\n",
      "Accuracy 87.0\n",
      "Re-call 0.79\n",
      "Precision 1.0\n",
      "\n",
      "Naive bayes test set result:\n",
      "Accuracy 56.99999999999999\n",
      "Re-call 0.6\n",
      "Precision 0.64\n"
     ]
    }
   ],
   "source": [
    "# Naive bayes Regression.\n",
    "naive_bayes_classifier = GaussianNB()\n",
    "\n",
    "# Train classifier.\n",
    "naive_bayes_classifier.fit(X_train, y_train)\n",
    "\n",
    "# Predict on train set.\n",
    "y_train_pred = naive_bayes_classifier.predict(X_train)\n",
    "\n",
    "# Predict on test set.\n",
    "y_test_pred = naive_bayes_classifier.predict(X_test)\n",
    "\n",
    "# Accuracy and other metrics.\n",
    "train_accuracy = accuracy_score(y_train, y_train_pred)\n",
    "train_recall = recall_score(y_train, y_train_pred, average='binary')\n",
    "train_precision = precision_score(y_train, y_train_pred, average='binary')\n",
    "\n",
    "test_accuracy = accuracy_score(y_test, y_test_pred)\n",
    "test_recall = recall_score(y_test, y_test_pred, average='binary')\n",
    "test_precision = precision_score(y_test, y_test_pred, average='binary')\n",
    "\n",
    "print('Naive bayes train set result:')\n",
    "print('Accuracy', round(train_accuracy, 2) * 100)\n",
    "print('Re-call', round(train_recall, 2))\n",
    "print('Precision', round(train_precision, 2))\n",
    "print()\n",
    "print('Naive bayes test set result:')\n",
    "print('Accuracy', round(test_accuracy, 2) * 100)\n",
    "print('Re-call', round(test_recall, 2))\n",
    "print('Precision', round(test_precision, 2))"
   ]
  },
  {
   "cell_type": "code",
   "execution_count": 13,
   "metadata": {
    "scrolled": true
   },
   "outputs": [
    {
     "name": "stdout",
     "output_type": "stream",
     "text": [
      "Decision tree train set result:\n",
      "Accuracy 99.0\n",
      "Re-call 0.99\n",
      "Precision 1.0\n",
      "\n",
      "Decision tree test set result:\n",
      "Accuracy 73.0\n",
      "Re-call 0.69\n",
      "Precision 0.81\n"
     ]
    }
   ],
   "source": [
    "# Decision tree Regression.\n",
    "decision_tree_regression_classifer = tree.DecisionTreeClassifier()\n",
    "\n",
    "# Train classifier.\n",
    "decision_tree_regression_classifer.fit(X_train, y_train)\n",
    "\n",
    "# Predict on train set.\n",
    "y_train_pred = decision_tree_regression_classifer.predict(X_train)\n",
    "\n",
    "# Predict on test set.\n",
    "y_test_pred = decision_tree_regression_classifer.predict(X_test)\n",
    "\n",
    "# Accuracy and other metrics.\n",
    "train_accuracy = accuracy_score(y_train, y_train_pred)\n",
    "train_recall = recall_score(y_train, y_train_pred, average='binary')\n",
    "train_precision = precision_score(y_train, y_train_pred, average='binary')\n",
    "\n",
    "test_accuracy = accuracy_score(y_test, y_test_pred)\n",
    "test_recall = recall_score(y_test, y_test_pred, average='binary')\n",
    "test_precision = precision_score(y_test, y_test_pred, average='binary')\n",
    "\n",
    "print('Decision tree train set result:')\n",
    "print('Accuracy', round(train_accuracy, 2) * 100)\n",
    "print('Re-call', round(train_recall, 2))\n",
    "print('Precision', round(train_precision, 2))\n",
    "print()\n",
    "print('Decision tree test set result:')\n",
    "print('Accuracy', round(test_accuracy, 2) * 100)\n",
    "print('Re-call', round(test_recall, 2))\n",
    "print('Precision', round(test_precision, 2))"
   ]
  },
  {
   "cell_type": "code",
   "execution_count": 14,
   "metadata": {
    "scrolled": true
   },
   "outputs": [
    {
     "name": "stdout",
     "output_type": "stream",
     "text": [
      "Best params for training classifier using Random Forest are:  {'min_samples_leaf': 2, 'min_samples_split': 4, 'n_estimators': 20}\n"
     ]
    }
   ],
   "source": [
    "# Grid search CV to find best parameters for Random Forest.\n",
    "# random_forest_params_grid = {\n",
    "#     'n_estimators': list(range(5, 50, 5)),\n",
    "#     'min_samples_leaf': list(range(1, 7)),\n",
    "#     'min_samples_split': list(range(1, 7))\n",
    "# }\n",
    "\n",
    "random_forest_params_grid = {\n",
    "    'n_estimators': list(range(5, 50, 5)),\n",
    "    'min_samples_leaf': list(range(1, 7)),\n",
    "    'min_samples_split': list(range(1, 7))\n",
    "}\n",
    "\n",
    "random_forest_grid_search_cv = GridSearchCV(RandomForestClassifier(), \n",
    "                                            random_forest_params_grid,\n",
    "                                            refit=True, scoring='accuracy',\n",
    "                                            n_jobs=-1, cv=5)\n",
    "\n",
    "\n",
    "# Train classifier.\n",
    "random_forest_grid_search_cv.fit(X_train, y_train)\n",
    "\n",
    "print('Best params for training classifier using Random Forest are: ', \n",
    "      random_forest_grid_search_cv.best_params_)"
   ]
  },
  {
   "cell_type": "code",
   "execution_count": 15,
   "metadata": {},
   "outputs": [
    {
     "name": "stdout",
     "output_type": "stream",
     "text": [
      "Random Forest train set result:\n",
      "Accuracy 85.0\n",
      "Re-call 0.92\n",
      "Precision 0.85\n",
      "\n",
      "Random Forest test set result:\n",
      "Accuracy 78.0\n",
      "Re-call 0.87\n",
      "Precision 0.78\n"
     ]
    }
   ],
   "source": [
    "# Random Forest using optimal params.\n",
    "random_forest_cv = RandomForestClassifier(**random_forest_grid_search_cv.best_params_)\n",
    "\n",
    "# Train classifier.\n",
    "random_forest_cv.fit(X_train, y_train)\n",
    "\n",
    "# Predict on train set.\n",
    "y_train_pred = random_forest_cv.predict(X_train)\n",
    "\n",
    "# Predict on test set.\n",
    "y_test_pred = random_forest_cv.predict(X_test)\n",
    "\n",
    "# Accuracy and other metrics.\n",
    "train_accuracy = accuracy_score(y_train, y_train_pred)\n",
    "train_recall = recall_score(y_train, y_train_pred, average='binary')\n",
    "train_precision = precision_score(y_train, y_train_pred, average='binary')\n",
    "\n",
    "test_accuracy = accuracy_score(y_test, y_test_pred)\n",
    "test_recall = recall_score(y_test, y_test_pred, average='binary')\n",
    "test_precision = precision_score(y_test, y_test_pred, average='binary')\n",
    "\n",
    "print('Random Forest train set result:')\n",
    "print('Accuracy', round(train_accuracy, 2) * 100)\n",
    "print('Re-call', round(train_recall, 2))\n",
    "print('Precision', round(train_precision, 2))\n",
    "print()\n",
    "print('Random Forest test set result:')\n",
    "print('Accuracy', round(test_accuracy, 2) * 100)\n",
    "print('Re-call', round(test_recall, 2))\n",
    "print('Precision', round(test_precision, 2))"
   ]
  },
  {
   "cell_type": "code",
   "execution_count": 20,
   "metadata": {},
   "outputs": [
    {
     "name": "stdout",
     "output_type": "stream",
     "text": [
      "Best params for training classifier using Gradient Boosting are:  {'learning_rate': 0.2, 'min_samples_leaf': 8, 'min_samples_split': 5, 'n_estimators': 17}\n"
     ]
    }
   ],
   "source": [
    "# Grid search CV to find best parameters for Random Forest.\n",
    "# gradient_boosting_params_grid = {\n",
    "#     'min_samples_split': list(range(5, 10)),\n",
    "#     'min_samples_leaf': list(range(5, 10)),\n",
    "#     'n_estimators': list(range(5, 20, 3)),\n",
    "#     \"learning_rate\": [0.01, 0.05, 0.1, 0.2],\n",
    "# }\n",
    "\n",
    "gradient_boosting_params_grid = {\n",
    "    'min_samples_split': list(range(5, 10)),\n",
    "    'min_samples_leaf': list(range(5, 10)),\n",
    "    'n_estimators': list(range(5, 20, 3)),\n",
    "    \"learning_rate\": [0.01, 0.05, 0.1, 0.2],\n",
    "}\n",
    "\n",
    "gradient_boosting_grid_search_cv = GridSearchCV(GradientBoostingClassifier(), \n",
    "                                                gradient_boosting_params_grid,\n",
    "                                                scoring='accuracy', cv=5)\n",
    "\n",
    "# Train classifier.\n",
    "gradient_boosting_grid_search_cv.fit(X_train, y_train)\n",
    "\n",
    "print('Best params for training classifier using Gradient Boosting are: ', \n",
    "      gradient_boosting_grid_search_cv.best_params_)"
   ]
  },
  {
   "cell_type": "code",
   "execution_count": 21,
   "metadata": {},
   "outputs": [
    {
     "name": "stdout",
     "output_type": "stream",
     "text": [
      "Gradient Boosting Classifier train set result:\n",
      "Accuracy 72.0\n",
      "Re-call 0.93\n",
      "Precision 0.71\n",
      "\n",
      "Gradient Boosting Classifier test set result:\n",
      "Accuracy 75.0\n",
      "Re-call 0.9\n",
      "Precision 0.73\n"
     ]
    }
   ],
   "source": [
    "# Gradient Boosting classifier.\n",
    "gradient_boosting_classifier = GradientBoostingClassifier(**gradient_boosting_grid_search_cv.best_params_)\n",
    "\n",
    "# Train classifier.\n",
    "gradient_boosting_classifier.fit(X_train, y_train)\n",
    "\n",
    "# Predict on train set.\n",
    "y_train_pred = gradient_boosting_classifier.predict(X_train)\n",
    "\n",
    "# Predict on test set.\n",
    "y_test_pred = gradient_boosting_classifier.predict(X_test)\n",
    "\n",
    "# Accuracy and other metrics.\n",
    "train_accuracy = accuracy_score(y_train, y_train_pred)\n",
    "train_recall = recall_score(y_train, y_train_pred, average='binary')\n",
    "train_precision = precision_score(y_train, y_train_pred, average='binary')\n",
    "\n",
    "test_accuracy = accuracy_score(y_test, y_test_pred)\n",
    "test_recall = recall_score(y_test, y_test_pred, average='binary')\n",
    "test_precision = precision_score(y_test, y_test_pred, average='binary')\n",
    "\n",
    "print('Gradient Boosting Classifier train set result:')\n",
    "print('Accuracy', round(train_accuracy, 2) * 100)\n",
    "print('Re-call', round(train_recall, 2))\n",
    "print('Precision', round(train_precision, 2))\n",
    "print()\n",
    "print('Gradient Boosting Classifier test set result:')\n",
    "print('Accuracy', round(test_accuracy, 2) * 100)\n",
    "print('Re-call', round(test_recall, 2))\n",
    "print('Precision', round(test_precision, 2))"
   ]
  }
 ],
 "metadata": {
  "kernelspec": {
   "display_name": "Python 3",
   "language": "python",
   "name": "python3"
  },
  "language_info": {
   "codemirror_mode": {
    "name": "ipython",
    "version": 3
   },
   "file_extension": ".py",
   "mimetype": "text/x-python",
   "name": "python",
   "nbconvert_exporter": "python",
   "pygments_lexer": "ipython3",
   "version": "3.8.5"
  }
 },
 "nbformat": 4,
 "nbformat_minor": 4
}
